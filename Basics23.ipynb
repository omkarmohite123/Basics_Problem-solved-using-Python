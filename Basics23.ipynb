{
  "nbformat": 4,
  "nbformat_minor": 0,
  "metadata": {
    "colab": {
      "provenance": [],
      "authorship_tag": "ABX9TyOooQ4RNtzYqudxyGlTQ/pA",
      "include_colab_link": true
    },
    "kernelspec": {
      "name": "python3",
      "display_name": "Python 3"
    },
    "language_info": {
      "name": "python"
    }
  },
  "cells": [
    {
      "cell_type": "markdown",
      "metadata": {
        "id": "view-in-github",
        "colab_type": "text"
      },
      "source": [
        "<a href=\"https://colab.research.google.com/github/omkarmohite123/Basics_Problem-solved-using-Python/blob/main/Basics23.ipynb\" target=\"_parent\"><img src=\"https://colab.research.google.com/assets/colab-badge.svg\" alt=\"Open In Colab\"/></a>"
      ]
    },
    {
      "cell_type": "code",
      "source": [
        "\"\"\"\n",
        "You are given a number ‘n’. Your task is to create the smallest number possible using the digits of number. The number should be of the same length as the orignal input number.\n",
        "\n",
        "Input Description:\n",
        "You are given a number ‘n’,\n",
        "\n",
        "Output Description:\n",
        "Print the smallest possible number of same length\n",
        "\n",
        "Sample Input :\n",
        "123456789123456789\n",
        "Sample Output :\n",
        "112233445566778899\n",
        "\"\"\""
      ],
      "metadata": {
        "id": "rw5cCJdide4R"
      },
      "execution_count": null,
      "outputs": []
    },
    {
      "cell_type": "code",
      "source": [
        "a=input()\n",
        "s=list(a)\n",
        "d=sorted(s,reverse=False)\n",
        "k=\"\"\n",
        "for i in d:\n",
        "    k+=str(i)\n",
        "print(k)  "
      ],
      "metadata": {
        "colab": {
          "base_uri": "https://localhost:8080/"
        },
        "id": "z-x-GtiFfOIW",
        "outputId": "9fab8292-9578-4a85-a51e-1d5f272952e3"
      },
      "execution_count": null,
      "outputs": [
        {
          "output_type": "stream",
          "name": "stdout",
          "text": [
            "123456789123456789\n",
            "112233445566778899\n"
          ]
        }
      ]
    },
    {
      "cell_type": "code",
      "source": [],
      "metadata": {
        "id": "9qIbozvLmHhX"
      },
      "execution_count": null,
      "outputs": []
    }
  ]
}