{
  "nbformat": 4,
  "nbformat_minor": 0,
  "metadata": {
    "colab": {
      "provenance": [],
      "authorship_tag": "ABX9TyNCF/oeNh/KlP4nb0J57GTW",
      "include_colab_link": true
    },
    "kernelspec": {
      "name": "python3",
      "display_name": "Python 3"
    },
    "language_info": {
      "name": "python"
    }
  },
  "cells": [
    {
      "cell_type": "markdown",
      "metadata": {
        "id": "view-in-github",
        "colab_type": "text"
      },
      "source": [
        "<a href=\"https://colab.research.google.com/github/omkarmohite123/Basics_Problem-solved-using-Python/blob/main/string27.ipynb\" target=\"_parent\"><img src=\"https://colab.research.google.com/assets/colab-badge.svg\" alt=\"Open In Colab\"/></a>"
      ]
    },
    {
      "cell_type": "code",
      "source": [
        "\"\"\"\n",
        "Write a program to rotate the given string by the given number of times.\n",
        "\n",
        "Input Description:\n",
        "String, rotation times\n",
        "\n",
        "Output Description:\n",
        "print the Rotated string\n",
        "\n",
        "Sample Input :\n",
        "hello 3\n",
        "Sample Output :\n",
        "llohe\n",
        "\n",
        "\"\"\""
      ],
      "metadata": {
        "id": "UUx7FptXx-hf"
      },
      "execution_count": null,
      "outputs": []
    },
    {
      "cell_type": "code",
      "source": [
        "a,b=list(map(str,input().split()))\n",
        "b=int(b)\n",
        "s=len(a)\n",
        "k=a[-3:]\n",
        "\n",
        "f=a[:s-b]\n",
        "h=k+f\n",
        "print(h)\n"
      ],
      "metadata": {
        "id": "TpjPeyHUynqM",
        "colab": {
          "base_uri": "https://localhost:8080/"
        },
        "outputId": "5cc5bc56-6a14-4b30-dbec-45590565fc2e"
      },
      "execution_count": 2,
      "outputs": [
        {
          "output_type": "stream",
          "name": "stdout",
          "text": [
            "hello 3\n",
            "llohe\n"
          ]
        }
      ]
    }
  ]
}