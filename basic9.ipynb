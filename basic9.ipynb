{
  "nbformat": 4,
  "nbformat_minor": 0,
  "metadata": {
    "colab": {
      "provenance": [],
      "authorship_tag": "ABX9TyOmwl8LAs33MpOpMbseNTol",
      "include_colab_link": true
    },
    "kernelspec": {
      "name": "python3",
      "display_name": "Python 3"
    },
    "language_info": {
      "name": "python"
    }
  },
  "cells": [
    {
      "cell_type": "markdown",
      "metadata": {
        "id": "view-in-github",
        "colab_type": "text"
      },
      "source": [
        "<a href=\"https://colab.research.google.com/github/omkarmohite123/Basics_Problem-solved-using-Python/blob/main/basic9.ipynb\" target=\"_parent\"><img src=\"https://colab.research.google.com/assets/colab-badge.svg\" alt=\"Open In Colab\"/></a>"
      ]
    },
    {
      "cell_type": "code",
      "source": [
        "\"\"\"\n",
        "Given a number N and 2 arrays A and B of sorted order of size N, print the common elements.If it is not found print -1.\n",
        "Input Size : 1 <= N <= 100000\n",
        "Sample Testcase :\n",
        "INPUT\n",
        "5\n",
        "1 1 1 1 1\n",
        "1 2 3 4 5\n",
        "OUTPUT\n",
        "1 1 1 1 1\n",
        "\n",
        "\"\"\""
      ],
      "metadata": {
        "id": "EjD0LjaSl279"
      },
      "execution_count": null,
      "outputs": []
    },
    {
      "cell_type": "code",
      "source": [
        "\n",
        "a=int(input())\n",
        "b=list(map(int,input().split()))\n",
        "c=list(map(int,input().split()))\n",
        "s=[]\n",
        "for i in range(len(b)):\n",
        "    for j in range(len(c)):\n",
        "       if b[i]==c[j]:\n",
        "        s.append(b[i])\n",
        "        break\n",
        "if s==[]:\n",
        "  print(\"-1\")\n",
        "else:\n",
        "  print(*s)"
      ],
      "metadata": {
        "colab": {
          "base_uri": "https://localhost:8080/"
        },
        "id": "qC7OUytHbI8O",
        "outputId": "6247d61a-0b34-4adb-9dea-e361a83bc2d5"
      },
      "execution_count": 3,
      "outputs": [
        {
          "output_type": "stream",
          "name": "stdout",
          "text": [
            "5\n",
            "1 1 1 1 1\n",
            "1 2 3 4 5\n",
            "1 1 1 1 1\n"
          ]
        }
      ]
    },
    {
      "cell_type": "code",
      "source": [],
      "metadata": {
        "id": "St_KYAM8bipH"
      },
      "execution_count": null,
      "outputs": []
    }
  ]
}