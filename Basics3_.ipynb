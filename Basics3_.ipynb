{
  "nbformat": 4,
  "nbformat_minor": 0,
  "metadata": {
    "colab": {
      "provenance": [],
      "authorship_tag": "ABX9TyPYTsw7A9EuGnb3nW6fmpqL",
      "include_colab_link": true
    },
    "kernelspec": {
      "name": "python3",
      "display_name": "Python 3"
    },
    "language_info": {
      "name": "python"
    }
  },
  "cells": [
    {
      "cell_type": "markdown",
      "metadata": {
        "id": "view-in-github",
        "colab_type": "text"
      },
      "source": [
        "<a href=\"https://colab.research.google.com/github/omkarmohite123/Basics_Problem-solved-using-Python/blob/main/Basics3_.ipynb\" target=\"_parent\"><img src=\"https://colab.research.google.com/assets/colab-badge.svg\" alt=\"Open In Colab\"/></a>"
      ]
    },
    {
      "cell_type": "code",
      "source": [
        "\"\"\"\n",
        "Let P represent Paper, R represent Rock and S represent Scissors. Given 2 out of the 3 determine which one wins. If its a draw print 'D'.\n",
        "Sample Testcase :\n",
        "INPUT\n",
        "R P\n",
        "OUTPUT\n",
        "P\n",
        "\n",
        "\"\"\""
      ],
      "metadata": {
        "id": "0fkwV0YQB99o"
      },
      "execution_count": null,
      "outputs": []
    },
    {
      "cell_type": "code",
      "source": [
        "\n",
        "a=input().split()\n",
        "\n",
        "if a==[\"R\",\"P\"] or a == [\"P\",\"R\"]:\n",
        "  print(\"p\")\n",
        "elif a==[\"S\",\"P\"] or a == [\"P\",\"S\"]:\n",
        "  print(\"S\")\n",
        "elif a==[\"R\",\"S\"] or a == [\"S\",\"R\"]:\n",
        "  print(\"R\")\n",
        "else:\n",
        "  print(\"D\")"
      ],
      "metadata": {
        "colab": {
          "base_uri": "https://localhost:8080/"
        },
        "id": "NJ0sjUHyB-H6",
        "outputId": "a1a39c31-5069-4808-e0c4-cb5c10421b28"
      },
      "execution_count": 7,
      "outputs": [
        {
          "output_type": "stream",
          "name": "stdout",
          "text": [
            "R P\n",
            "p\n"
          ]
        }
      ]
    }
  ]
}