{
  "nbformat": 4,
  "nbformat_minor": 0,
  "metadata": {
    "colab": {
      "provenance": [],
      "authorship_tag": "ABX9TyPYuk9n8H+6KXWqtmjPIEmg",
      "include_colab_link": true
    },
    "kernelspec": {
      "name": "python3",
      "display_name": "Python 3"
    },
    "language_info": {
      "name": "python"
    }
  },
  "cells": [
    {
      "cell_type": "markdown",
      "metadata": {
        "id": "view-in-github",
        "colab_type": "text"
      },
      "source": [
        "<a href=\"https://colab.research.google.com/github/omkarmohite123/Basics_Problem-solved-using-Python/blob/main/basics12.ipynb\" target=\"_parent\"><img src=\"https://colab.research.google.com/assets/colab-badge.svg\" alt=\"Open In Colab\"/></a>"
      ]
    },
    {
      "cell_type": "code",
      "source": [
        "\"\"\"\n",
        "Given a number N and an array of N elements ,find the Bitwise AND of the array elements.\n",
        "Input Size N <= 100000\n",
        "Sample Testcase :\n",
        "INPUT\n",
        "4\n",
        "4 3 2 1\n",
        "OUTPUT\n",
        "0\n",
        "\n",
        "\"\"\""
      ],
      "metadata": {
        "id": "GKBm1E_0cdiP"
      },
      "execution_count": null,
      "outputs": []
    },
    {
      "cell_type": "code",
      "source": [
        "\n",
        "def find_and(arr,n):\n",
        "\t\n",
        "\t\n",
        "\tans = arr[0]\n",
        "\t\n",
        "\tfor i in range(1, len(arr)):\n",
        "\t\tans = ans&arr[i]\n",
        "\n",
        "\treturn ans\n",
        "\n",
        "if __name__ == '__main__':\n",
        "    n=int(input())\n",
        "arr = list(map(int,input().split()))\n",
        "print(find_and(arr,n))\n"
      ],
      "metadata": {
        "colab": {
          "base_uri": "https://localhost:8080/"
        },
        "id": "l0o6-5oXerOg",
        "outputId": "8ac9a1b0-a4e4-473c-d8dc-d29161724443"
      },
      "execution_count": 13,
      "outputs": [
        {
          "output_type": "stream",
          "name": "stdout",
          "text": [
            "4\n",
            "4 3 2 1\n",
            "0\n"
          ]
        }
      ]
    }
  ]
}