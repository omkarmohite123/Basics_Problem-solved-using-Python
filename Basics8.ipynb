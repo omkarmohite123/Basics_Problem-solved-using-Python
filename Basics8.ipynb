{
  "nbformat": 4,
  "nbformat_minor": 0,
  "metadata": {
    "colab": {
      "provenance": [],
      "authorship_tag": "ABX9TyM2EQRAGIqoq/RYhCEllWR8",
      "include_colab_link": true
    },
    "kernelspec": {
      "name": "python3",
      "display_name": "Python 3"
    },
    "language_info": {
      "name": "python"
    }
  },
  "cells": [
    {
      "cell_type": "markdown",
      "metadata": {
        "id": "view-in-github",
        "colab_type": "text"
      },
      "source": [
        "<a href=\"https://colab.research.google.com/github/omkarmohite123/Basics_Problem-solved-using-Python/blob/main/Basics8.ipynb\" target=\"_parent\"><img src=\"https://colab.research.google.com/assets/colab-badge.svg\" alt=\"Open In Colab\"/></a>"
      ]
    },
    {
      "cell_type": "code",
      "source": [
        "\"\"\"\n",
        "Write a code get an integer number as input and print the odd and even digits of the number separately.\n",
        "\n",
        "Input Description:\n",
        "A single line containing an integer.\n",
        "\n",
        "Output Description:\n",
        "Print the even and odd integers of the integer in a separate line.\n",
        "\n",
        "Sample Input :\n",
        "1234\n",
        "Sample Output :\n",
        "2 4\n",
        "1 3\n",
        "\n",
        "\"\"\""
      ],
      "metadata": {
        "id": "d0fEHanoDyOk"
      },
      "execution_count": null,
      "outputs": []
    },
    {
      "cell_type": "code",
      "source": [
        "num=list(input())\n",
        "odd=[]\n",
        "even=[]\n",
        "for x in num:\n",
        "    x=int(x)\n",
        "    if x%2==0:\n",
        "        even.append(x)\n",
        "    else:\n",
        "        odd.append(x)\n",
        "print(*sorted(even))\n",
        "print(*sorted(odd))"
      ],
      "metadata": {
        "colab": {
          "base_uri": "https://localhost:8080/"
        },
        "id": "LPxoO-IIDygY",
        "outputId": "e1bd9ae6-585a-4678-d703-6d10df470424"
      },
      "execution_count": 13,
      "outputs": [
        {
          "output_type": "stream",
          "name": "stdout",
          "text": [
            "1234\n",
            "2 4\n",
            "1 3\n"
          ]
        }
      ]
    },
    {
      "cell_type": "code",
      "source": [],
      "metadata": {
        "id": "fjDo2n2RD9lQ"
      },
      "execution_count": null,
      "outputs": []
    }
  ]
}