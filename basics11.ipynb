{
  "nbformat": 4,
  "nbformat_minor": 0,
  "metadata": {
    "colab": {
      "provenance": [],
      "authorship_tag": "ABX9TyMghjXHkJ4hrtfCOOhbGCqh",
      "include_colab_link": true
    },
    "kernelspec": {
      "name": "python3",
      "display_name": "Python 3"
    },
    "language_info": {
      "name": "python"
    }
  },
  "cells": [
    {
      "cell_type": "markdown",
      "metadata": {
        "id": "view-in-github",
        "colab_type": "text"
      },
      "source": [
        "<a href=\"https://colab.research.google.com/github/omkarmohite123/Basics_Problem-solved-using-Python/blob/main/basics11.ipynb\" target=\"_parent\"><img src=\"https://colab.research.google.com/assets/colab-badge.svg\" alt=\"Open In Colab\"/></a>"
      ]
    },
    {
      "cell_type": "code",
      "source": [
        "\"\"\"\n",
        "You are given an array F of focal lengths of size f, F[0], F[1],...F[f-1]. You are asked to determine the indices of the elements from the biggest element to the smallest element.\n",
        "\n",
        "Input Description:\n",
        "The first line contains an integer f. The next line contains f space separated integers F[i], (0 <= i <= f-1) Note: The elements of F[i] are pairwise distinct.\n",
        "\n",
        "Output Description:\n",
        "Print f space separated integers, denoting the indices of the elements, from biggest element to smallest.\n",
        "\n",
        "Sample Input :\n",
        "3\n",
        "1 5 4\n",
        "Sample Output :\n",
        "1 2 0\n",
        "\"\"\""
      ],
      "metadata": {
        "id": "St_KYAM8bipH"
      },
      "execution_count": null,
      "outputs": []
    },
    {
      "cell_type": "code",
      "source": [
        "\n",
        "a=int(input())\n",
        "b=list(map(int,input().split()))\n",
        "c=sorted(b,reverse=True)\n",
        "\n",
        "s=[]\n",
        "k=0\n",
        "for i in range(len(c)):\n",
        "   for j in range(len(b)):\n",
        "       s.append(b.index(c[j]))\n",
        "   break\n",
        "print(*s)"
      ],
      "metadata": {
        "colab": {
          "base_uri": "https://localhost:8080/"
        },
        "id": "v7IzdOP9cLG2",
        "outputId": "7c50de7d-0031-4ef7-d462-b0c126fc19a0"
      },
      "execution_count": 4,
      "outputs": [
        {
          "output_type": "stream",
          "name": "stdout",
          "text": [
            "3\n",
            "1 5 4\n",
            "1 2 0\n"
          ]
        }
      ]
    }
  ]
}