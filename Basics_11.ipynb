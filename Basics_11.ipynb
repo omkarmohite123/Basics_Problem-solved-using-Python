{
  "nbformat": 4,
  "nbformat_minor": 0,
  "metadata": {
    "colab": {
      "provenance": [],
      "authorship_tag": "ABX9TyPtusya8i0BRfrGGsKCGVB2",
      "include_colab_link": true
    },
    "kernelspec": {
      "name": "python3",
      "display_name": "Python 3"
    },
    "language_info": {
      "name": "python"
    }
  },
  "cells": [
    {
      "cell_type": "markdown",
      "metadata": {
        "id": "view-in-github",
        "colab_type": "text"
      },
      "source": [
        "<a href=\"https://colab.research.google.com/github/omkarmohite123/Basics_Problem-solved-using-Python/blob/main/Basics_11.ipynb\" target=\"_parent\"><img src=\"https://colab.research.google.com/assets/colab-badge.svg\" alt=\"Open In Colab\"/></a>"
      ]
    },
    {
      "cell_type": "code",
      "source": [
        "\"\"\"\n",
        "Given 2 numbers N and K followed by N elements,print the number of repetition of K otherwise print '-1' if the element not found.\n",
        "Sample Testcase :\n",
        "INPUT\n",
        "6 2\n",
        "1 2 3 5 7 8\n",
        "OUTPUT\n",
        "0\n",
        "\n",
        "\"\"\""
      ],
      "metadata": {
        "id": "LV-YeM-VRhdl"
      },
      "execution_count": null,
      "outputs": []
    },
    {
      "cell_type": "code",
      "source": [
        "\n",
        "a,k=map(str,input().split())\n",
        "b=list(map(str,input().split()))\n",
        "c=0\n",
        "for i in b:\n",
        "  b.count(k)\n",
        "if k not in b:\n",
        "   print(\"-1\")\n",
        "else:\n",
        "   print(c)\n",
        "\n"
      ],
      "metadata": {
        "colab": {
          "base_uri": "https://localhost:8080/"
        },
        "id": "pmbCBClVRiLk",
        "outputId": "dc0702b9-eb24-42cf-e674-25b55a3cc107"
      },
      "execution_count": 1,
      "outputs": [
        {
          "output_type": "stream",
          "name": "stdout",
          "text": [
            "6 2\n",
            "1 2 3 5 7 8\n",
            "0\n"
          ]
        }
      ]
    }
  ]
}