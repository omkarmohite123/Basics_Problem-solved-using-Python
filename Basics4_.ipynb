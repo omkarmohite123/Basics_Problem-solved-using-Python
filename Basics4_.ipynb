{
  "nbformat": 4,
  "nbformat_minor": 0,
  "metadata": {
    "colab": {
      "provenance": [],
      "authorship_tag": "ABX9TyOeRQIW0tWMZGRH7BPn/lVq",
      "include_colab_link": true
    },
    "kernelspec": {
      "name": "python3",
      "display_name": "Python 3"
    },
    "language_info": {
      "name": "python"
    }
  },
  "cells": [
    {
      "cell_type": "markdown",
      "metadata": {
        "id": "view-in-github",
        "colab_type": "text"
      },
      "source": [
        "<a href=\"https://colab.research.google.com/github/omkarmohite123/Basics_Problem-solved-using-Python/blob/main/Basics4_.ipynb\" target=\"_parent\"><img src=\"https://colab.research.google.com/assets/colab-badge.svg\" alt=\"Open In Colab\"/></a>"
      ]
    },
    {
      "cell_type": "code",
      "source": [
        "\"\"\"\n",
        "Write a code to get 2 integers as input and add the integers without any carry.\n",
        "\n",
        "Input Description:\n",
        "A single line containing 2 integers.\n",
        "\n",
        "Output Description:\n",
        "Print sum of the 2 integers without carry\n",
        "\n",
        "Sample Input :\n",
        "44 66\n",
        "Sample Output :\n",
        "0\n",
        "\n",
        "\"\"\""
      ],
      "metadata": {
        "id": "TEVqQyEwCQy6"
      },
      "execution_count": null,
      "outputs": []
    },
    {
      "cell_type": "code",
      "source": [
        "# Python3 program for special\n",
        "# addition of two number\n",
        "import math\n",
        "\n",
        "def xSum(n, m) :\n",
        "\n",
        "\t# variable to\n",
        "\t# store result\n",
        "\tres = 0\n",
        "\n",
        "\t# variable to maintain\n",
        "\t# place value\n",
        "\tmultiplier = 1\n",
        "\n",
        "\t# variable to maintain\n",
        "\t# each digit sum\n",
        "\tbit_sum = 0\n",
        "\n",
        "\t# Add numbers till each\n",
        "\t# number become zero\n",
        "\twhile (n or m) :\n",
        "\n",
        "\t\t# Add each bits\n",
        "\t\tbit_sum = ((n % 10) +\n",
        "\t\t\t\t(m % 10))\n",
        "\t\t\n",
        "\t\t# Neglect carry\n",
        "\t\tbit_sum = bit_sum % 10\n",
        "\t\t\n",
        "\t\t# Update result\n",
        "\t\tres = (bit_sum *\n",
        "\t\t\tmultiplier) + res\n",
        "\t\tn = math.floor(n / 10)\n",
        "\t\tm = math.floor(m / 10)\n",
        "\t\t\n",
        "\t\t# Update multiplier\n",
        "\t\tmultiplier = multiplier * 10\n",
        "\t\n",
        "\treturn res\n",
        "\n",
        "# Driver code\n",
        "n,m = list(map(int,input().split()))\n",
        "print (xSum(n, m))\n"
      ],
      "metadata": {
        "colab": {
          "base_uri": "https://localhost:8080/"
        },
        "id": "wtIsCi5cCQ7c",
        "outputId": "88d25479-1174-4124-a451-c152c9765ea7"
      },
      "execution_count": 8,
      "outputs": [
        {
          "output_type": "stream",
          "name": "stdout",
          "text": [
            "44 66\n",
            "0\n"
          ]
        }
      ]
    }
  ]
}